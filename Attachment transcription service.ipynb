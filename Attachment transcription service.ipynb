{
 "cells": [
  {
   "cell_type": "markdown",
   "id": "8b40532e",
   "metadata": {},
   "source": [
    "# CYBER Master\n",
    "\n",
    "This project is to process the data of recorded voices and baseline measurements for the attachment style interaction with depression and anxiety, in a sense this will work a the ETL or pre-processing of the data.\n",
    "\n",
    "This notebook has a single purpose expressed in the following steps:\n",
    "- Gather the answers from the survey DB\n",
    "- Process the answers by uniques and present a report of the demographics, attachment styles and HADS answers\n",
    "- From each answer, get the recordings from blob storage.\n",
    "- For each recording transcribe them and associate them to the answer\n",
    "- Store the resulting data in the DB for further analysis"
   ]
  },
  {
   "cell_type": "code",
   "execution_count": null,
   "id": "77a6d881",
   "metadata": {},
   "outputs": [],
   "source": [
    "# -*- coding: utf-8 -*-\n",
    "\n",
    "# Import the necessary libraries\n",
    "import os\n",
    "import sys\n",
    "import json\n",
    "from datetime import datetime\n",
    "from dotenv import load_dotenv, find_dotenv\n",
    "import subprocess\n",
    "\n",
    "load_dotenv(find_dotenv())\n",
    "\n",
    "CONSENT_SURVEY_ID = \"8\"\n",
    "STUDY_SURVEY_ID = \"7\"\n",
    "\n",
    "\n",
    "def transcribe_audio(file_path, language=\"en\"):\n",
    "    # Use the local vosk via CLI to get the transcription\n",
    "    result_file = file_path.replace(\".wav\", \".txt\")\n",
    "    subprocess.run(\n",
    "        [\n",
    "            \"vosk-transcriber\",\n",
    "            \"-i\",\n",
    "            file_path,\n",
    "            \"-l\",\n",
    "            language,\n",
    "            \"-o\",\n",
    "            result_file,\n",
    "            \"--log-level\",\n",
    "            \"ERROR\",\n",
    "        ]\n",
    "    )\n",
    "    # Read the transcription\n",
    "    with open(result_file, \"r\") as transcription_file:\n",
    "        transcription = transcription_file.read()\n",
    "        return transcription"
   ]
  },
  {
   "cell_type": "markdown",
   "id": "35256663",
   "metadata": {},
   "source": [
    "## Connect to the DB"
   ]
  },
  {
   "cell_type": "code",
   "execution_count": null,
   "id": "e3dbb8c9",
   "metadata": {},
   "outputs": [],
   "source": [
    "import mysql.connector\n",
    "\n",
    "connection = mysql.connector.connect(\n",
    "    user=os.getenv(\"DB_USERNAME\"),\n",
    "    password=os.getenv(\"DB_PASSWORD\"),\n",
    "    host=os.getenv(\"DB_HOST\"),\n",
    "    database=os.getenv(\"DB_NAME\"),\n",
    "    port=os.getenv(\"DB_PORT\"),\n",
    ")\n",
    "cursor = connection.cursor()\n",
    "\n",
    "# query the answers table\n",
    "query = (\n",
    "    f\"SELECT * FROM surveys_answer where surveys_answer.survey_id = {STUDY_SURVEY_ID}\"\n",
    ")\n",
    "cursor.execute(query)\n",
    "answers = cursor.fetchall()"
   ]
  },
  {
   "cell_type": "code",
   "execution_count": null,
   "id": "2941470e-b36c-4949-a870-3b8beeefc03e",
   "metadata": {},
   "outputs": [],
   "source": [
    "# Parse the answers\n",
    "json_answers = []\n",
    "\n",
    "for answer in answers:\n",
    "    dict_answer = json.loads(json.loads(answer[1]))\n",
    "    if dict_answer.get(\"response-uuid\") not in [answer.get(\"response-uuid\") for answer in json_answers]:\n",
    "        json_answers.append({\"id\": answer[0], **json.loads(json.loads(answer[1]))})\n",
    "full_answers = [answer for answer in json_answers if len(answer.keys()) == 62]\n",
    "# get answers by language in a dictionary\n",
    "answers_by_language = {}\n",
    "answers_by_language = {\n",
    "    \"en\": len([answer for answer in full_answers if answer[\"language\"] == \"en\"]),\n",
    "    \"es\": len([answer for answer in full_answers if answer[\"language\"] == \"es\"]),\n",
    "    \"pt\": len([answer for answer in full_answers if answer[\"language\"] == \"pt\"]),\n",
    "}\n",
    "print(answers_by_language)"
   ]
  },
  {
   "cell_type": "code",
   "execution_count": null,
   "id": "6f75de8f",
   "metadata": {},
   "outputs": [],
   "source": [
    "# Get the recording info from the recording table\n",
    "recordings_query = f\"SELECT * FROM surveys_recording\"  # where surveys_recording.answer_id in ({','.join([str(answer.get('id')) for answer in full_answers])})\"\n",
    "cursor.execute(recordings_query)\n",
    "recordings = cursor.fetchall()\n",
    "print(recordings[0])"
   ]
  },
  {
   "cell_type": "code",
   "execution_count": null,
   "id": "68bd095a",
   "metadata": {},
   "outputs": [],
   "source": [
    "for answer in full_answers:\n",
    "    for recording in recordings:\n",
    "        for key, value in answer.items():\n",
    "            if not isinstance(value, str) or len(value) < 4:\n",
    "                continue\n",
    "            if value.replace(\"-\", \"\") != recording[-1]:\n",
    "                continue\n",
    "            answer[key] = f\"{recording[1].replace('recordings/', '')}.wav\"\n",
    "\n",
    "\n",
    "print(full_answers[0])"
   ]
  },
  {
   "cell_type": "code",
   "execution_count": null,
   "id": "c2ab8ecc",
   "metadata": {},
   "outputs": [],
   "source": [
    "print(full_answers[-1])"
   ]
  },
  {
   "cell_type": "markdown",
   "id": "26746968",
   "metadata": {},
   "source": [
    "## Getting the recordings per answer"
   ]
  },
  {
   "cell_type": "code",
   "execution_count": null,
   "id": "32405ec3",
   "metadata": {},
   "outputs": [],
   "source": [
    "from azure.storage.blob import BlobServiceClient\n",
    "\n",
    "CONTAINER_NAME = \"recordings\"\n",
    "\n",
    "blob_service = BlobServiceClient.from_connection_string(\n",
    "    os.getenv(\"AZURE_CONNECTION_STRING\")\n",
    ")\n",
    "local_path = \"./recordings\"\n",
    "# create the folder if not alrady\n",
    "if not os.path.exists(local_path):\n",
    "    os.mkdir(local_path)\n",
    "\n",
    "# Sanity check, listing the blobs in the container\n",
    "container_client = blob_service.get_container_client(CONTAINER_NAME)\n",
    "blob_list = []\n",
    "for blob in container_client.list_blobs():\n",
    "    if \"blob\" in blob.name:\n",
    "        blob_list.append(blob.name)"
   ]
  },
  {
   "cell_type": "code",
   "execution_count": null,
   "id": "1e82b756",
   "metadata": {},
   "outputs": [],
   "source": [
    "# Download the blobs into the recordings folder if not already downloaded\n",
    "for blob in blob_list:\n",
    "    result_file_name = blob.split(\"/\")[-1]\n",
    "    result_file_name = f\"{result_file_name}.wav\"\n",
    "    if result_file_name not in os.listdir(local_path):\n",
    "        with open(file=f\"{local_path}/{result_file_name}\", mode=\"wb\") as audio_file:\n",
    "            download_stream = container_client.download_blob(blob)\n",
    "            audio_file.write(download_stream.readall())\n",
    "\n",
    "# list all the files in the folder\n",
    "files = os.listdir(local_path)\n",
    "print(len(files))"
   ]
  },
  {
   "cell_type": "markdown",
   "id": "07ed8fae",
   "metadata": {},
   "source": [
    "## Vosk\n",
    "\n",
    "We are using [vosk](https://alphacephei.com/vosk/) to transcribe the audio into text, then assign it to the answer for further processing"
   ]
  },
  {
   "cell_type": "code",
   "execution_count": null,
   "id": "0d1ab00c",
   "metadata": {},
   "outputs": [],
   "source": [
    "for answer in full_answers:\n",
    "    for key, value in answer.items():\n",
    "        if not isinstance(value, str) or not value.endswith(\".wav\"):\n",
    "            continue\n",
    "        if value not in files:\n",
    "            print(f\"File {value} not found\")\n",
    "            continue\n",
    "        if value.replace(\".wav\", \".txt\") in os.listdir(local_path):\n",
    "            print(f\"File {value} already transcribed\")\n",
    "            answer[key] = open(f\"{local_path}/{value.replace('.wav', '.txt')}\", \"r\").read()\n",
    "        answer[key] = transcribe_audio(f\"{local_path}/{value}\", language=answer[\"language\"])"
   ]
  },
  {
   "cell_type": "code",
   "execution_count": null,
   "id": "73471843",
   "metadata": {},
   "outputs": [],
   "source": [
    "# save the answers in a json lines file\n",
    "now_date = datetime.now().strftime(\"%Y-%m-%d\")\n",
    "with open(f\"answers-{now_date}.json\", \"w\") as answers_file:\n",
    "    for answer in full_answers:\n",
    "        answers_file.write(json.dumps(answer))\n",
    "        answers_file.write(\"\\n\")"
   ]
  }
 ],
 "metadata": {
  "kernelspec": {
   "display_name": "Python 3 (ipykernel)",
   "language": "python",
   "name": "python3"
  },
  "language_info": {
   "codemirror_mode": {
    "name": "ipython",
    "version": 3
   },
   "file_extension": ".py",
   "mimetype": "text/x-python",
   "name": "python",
   "nbconvert_exporter": "python",
   "pygments_lexer": "ipython3",
   "version": "3.8.10"
  }
 },
 "nbformat": 4,
 "nbformat_minor": 5
}
