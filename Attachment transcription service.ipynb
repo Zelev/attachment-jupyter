{
 "cells": [
  {
   "cell_type": "markdown",
   "id": "8b40532e",
   "metadata": {},
   "source": [
    "# CYBER Master\n",
    "\n",
    "This project is to process the data of recorded voices and baseline measurements for the attachment style interaction with depression and anxiety, in a sense this will work a the ETL or pre-processing of the data.\n",
    "\n",
    "This notebook has a single purpose expressed in the following steps:\n",
    "- Gather the answers from the survey DB\n",
    "- Process the answers by uniques and present a report of the demographics, attachment styles and HADS answers\n",
    "- From each answer, get the recordings from blob storage.\n",
    "- For each recording transcribe them and associate them to the answer\n",
    "- Store the resulting data in the DB for further analysis"
   ]
  },
  {
   "cell_type": "code",
   "execution_count": 1,
   "id": "77a6d881",
   "metadata": {},
   "outputs": [],
   "source": [
    "# -*- coding: utf-8 -*-\n",
    "\n",
    "# Import the necessary libraries\n",
    "import os\n",
    "import sys\n",
    "import json\n",
    "from dotenv import load_dotenv, find_dotenv\n",
    "\n",
    "load_dotenv(find_dotenv())\n",
    "\n",
    "CONSENT_SURVEY_ID = \"8\"\n",
    "STUDY_SURVEY_ID = \"7\""
   ]
  },
  {
   "cell_type": "markdown",
   "id": "35256663",
   "metadata": {},
   "source": [
    "## Connect to the DB"
   ]
  },
  {
   "cell_type": "code",
   "execution_count": 2,
   "id": "e3dbb8c9",
   "metadata": {},
   "outputs": [],
   "source": [
    "import mysql.connector\n",
    "\n",
    "connection = mysql.connector.connect(user=os.getenv(\"DB_USERNAME\"), password=os.getenv(\"DB_PASSWORD\"), host=os.getenv(\"DB_HOST\"), database=os.getenv(\"DB_NAME\"), port=os.getenv(\"DB_PORT\"))\n",
    "cursor = connection.cursor()\n",
    "\n",
    "# query the answers table\n",
    "query = f\"SELECT * FROM surveys_answer where surveys_answer.survey_id = {STUDY_SURVEY_ID}\"\n",
    "cursor.execute(query)\n",
    "answers = cursor.fetchall()"
   ]
  },
  {
   "cell_type": "code",
   "execution_count": 3,
   "id": "2941470e-b36c-4949-a870-3b8beeefc03e",
   "metadata": {},
   "outputs": [],
   "source": [
    "json_answers = []\n",
    "\n",
    "for answer in answers:\n",
    "    dict_answer = json.loads(json.loads(answer[1]))\n",
    "    if dict_answer not in json_answers:\n",
    "        json_answers.append(json.loads(json.loads(answer[1])))\n",
    "\n",
    "answers_length = len(json_answers)"
   ]
  },
  {
   "cell_type": "code",
   "execution_count": 4,
   "id": "3849a35b",
   "metadata": {},
   "outputs": [
    {
     "data": {
      "text/plain": [
       "8"
      ]
     },
     "execution_count": 4,
     "metadata": {},
     "output_type": "execute_result"
    }
   ],
   "source": [
    "full_answers = [answer for answer in json_answers if len(answer.keys()) == 61]\n",
    "len(full_answers)"
   ]
  },
  {
   "cell_type": "code",
   "execution_count": 5,
   "id": "4be27de8",
   "metadata": {},
   "outputs": [
    {
     "name": "stdout",
     "output_type": "stream",
     "text": [
      "{'es'}\n"
     ]
    }
   ],
   "source": [
    "language_set = set([answer[\"language\"] for answer in full_answers])\n",
    "print(language_set)"
   ]
  },
  {
   "cell_type": "markdown",
   "id": "26746968",
   "metadata": {},
   "source": [
    "## Getting the recordings per answer"
   ]
  },
  {
   "cell_type": "code",
   "execution_count": null,
   "id": "32405ec3",
   "metadata": {},
   "outputs": [],
   "source": [
    "from azure.storage.blob import BlobServiceClient, BlobClient, ContainerClient\n",
    "\n",
    "CONTAINER_NAME = \"recordings\"\n",
    "\n",
    "blob_service = BlobServiceClient.from_connection_string(os.getenv(\"AZURE_CONNECTION_STRING\"))\n",
    "local_path = \"./recordings\"\n",
    "# create the folder if not alrady\n",
    "if not os.path.exists(local_path):\n",
    "    os.mkdir(local_path)\n",
    "\n",
    "# Sanity check, listing the blobs in the container\n",
    "container_client = blob_service.get_container_client(CONTAINER_NAME)\n",
    "blob_list = []\n",
    "for blob in container_client.list_blobs():\n",
    "    if \"blob\" in blob.name:\n",
    "        blob_list.append(blob.name)\n",
    "\n",
    "print(len(blob_list))"
   ]
  },
  {
   "cell_type": "code",
   "execution_count": null,
   "id": "1e82b756",
   "metadata": {},
   "outputs": [],
   "source": [
    "# Download the blobs into the recordings folder if not already downloaded\n",
    "for blob in blob_list:\n",
    "    result_file_name = blob.split(\"/\")[-1]\n",
    "    result_file_name = f\"{result_file_name}.mp4\"\n",
    "    if result_file_name not in os.listdir(local_path):\n",
    "        with open(file=f\"./recordings/{result_file_name}\", mode=\"wb\") as audio_file:\n",
    "            download_stream = container_client.download_blob(blob)\n",
    "            audio_file.write(download_stream.readall())\n",
    "\n",
    "# list all the files in the folder\n",
    "files = os.listdir(local_path)\n",
    "print(len(files))"
   ]
  }
 ],
 "metadata": {
  "kernelspec": {
   "display_name": "Python 3 (ipykernel)",
   "language": "python",
   "name": "python3"
  },
  "language_info": {
   "codemirror_mode": {
    "name": "ipython",
    "version": 3
   },
   "file_extension": ".py",
   "mimetype": "text/x-python",
   "name": "python",
   "nbconvert_exporter": "python",
   "pygments_lexer": "ipython3",
   "version": "3.8.10"
  }
 },
 "nbformat": 4,
 "nbformat_minor": 5
}
