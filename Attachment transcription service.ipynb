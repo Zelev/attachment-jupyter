{
 "cells": [
  {
   "cell_type": "markdown",
   "id": "8b40532e",
   "metadata": {},
   "source": [
    "# CYBER Master\n",
    "\n",
    "This project is to process the data of recorded voices and baseline measurements for the attachment style interaction with depression and anxiety, in a sense this will work a the ETL or pre-processing of the data.\n",
    "\n",
    "This notebook has a single purpose expressed in the following steps:\n",
    "- Gather the answers from the survey DB\n",
    "- Process the answers by uniques and present a report of the demographics, attachment styles and HADS answers\n",
    "- From each answer, get the recordings from blob storage.\n",
    "- For each recording transcribe them and associate them to the answer\n",
    "- Store the resulting data in the DB for further analysis"
   ]
  },
  {
   "cell_type": "code",
   "execution_count": 8,
   "id": "77a6d881",
   "metadata": {},
   "outputs": [],
   "source": [
    "# -*- coding: utf-8 -*-\n",
    "\n",
    "# Import the necessary libraries\n",
    "import os\n",
    "import sys\n",
    "import json\n",
    "from dotenv import load_dotenv\n",
    "\n",
    "load_dotenv(find_dotenv())\n",
    "\n",
    "CONSENT_SURVEY_ID = \"8\"\n",
    "STUDY_SURVEY_ID = \"7\""
   ]
  },
  {
   "cell_type": "markdown",
   "id": "35256663",
   "metadata": {},
   "source": [
    "## Connect to the DB"
   ]
  },
  {
   "cell_type": "code",
   "execution_count": 11,
   "id": "146dfb14",
   "metadata": {},
   "outputs": [
    {
     "name": "stdout",
     "output_type": "stream",
     "text": [
      "SHELL=/bin/bash\n",
      "NVM_INC=/home/dvelez/.nvm/versions/node/v20.3.1/include/node\n",
      "WSL2_GUI_APPS_ENABLED=1\n",
      "CONDA_EXE=/home/dvelez/miniconda3/bin/conda\n",
      "_CE_M=\n",
      "WSL_DISTRO_NAME=Ubuntu-20.04\n",
      "POETRY_ACTIVE=1\n",
      "NAME=LAPTOP-TVLSUB7V\n",
      "PWD=/mnt/d/CYBER/Valencia/dev/attachment-jupyter\n",
      "LOGNAME=dvelez\n",
      "MOTD_SHOWN=update-motd\n",
      "HOME=/home/dvelez\n",
      "LANG=C.UTF-8\n",
      "WSL_INTEROP=/run/WSL/634_interop\n",
      "LS_COLORS=rs=0:di=01;34:ln=01;36:mh=00:pi=40;33:so=01;35:do=01;35:bd=40;33;01:cd=40;33;01:or=40;31;01:mi=00:su=37;41:sg=30;43:ca=30;41:tw=30;42:ow=34;42:st=37;44:ex=01;32:*.tar=01;31:*.tgz=01;31:*.arc=01;31:*.arj=01;31:*.taz=01;31:*.lha=01;31:*.lz4=01;31:*.lzh=01;31:*.lzma=01;31:*.tlz=01;31:*.txz=01;31:*.tzo=01;31:*.t7z=01;31:*.zip=01;31:*.z=01;31:*.dz=01;31:*.gz=01;31:*.lrz=01;31:*.lz=01;31:*.lzo=01;31:*.xz=01;31:*.zst=01;31:*.tzst=01;31:*.bz2=01;31:*.bz=01;31:*.tbz=01;31:*.tbz2=01;31:*.tz=01;31:*.deb=01;31:*.rpm=01;31:*.jar=01;31:*.war=01;31:*.ear=01;31:*.sar=01;31:*.rar=01;31:*.alz=01;31:*.ace=01;31:*.zoo=01;31:*.cpio=01;31:*.7z=01;31:*.rz=01;31:*.cab=01;31:*.wim=01;31:*.swm=01;31:*.dwm=01;31:*.esd=01;31:*.jpg=01;35:*.jpeg=01;35:*.mjpg=01;35:*.mjpeg=01;35:*.gif=01;35:*.bmp=01;35:*.pbm=01;35:*.pgm=01;35:*.ppm=01;35:*.tga=01;35:*.xbm=01;35:*.xpm=01;35:*.tif=01;35:*.tiff=01;35:*.png=01;35:*.svg=01;35:*.svgz=01;35:*.mng=01;35:*.pcx=01;35:*.mov=01;35:*.mpg=01;35:*.mpeg=01;35:*.m2v=01;35:*.mkv=01;35:*.webm=01;35:*.ogm=01;35:*.mp4=01;35:*.m4v=01;35:*.mp4v=01;35:*.vob=01;35:*.qt=01;35:*.nuv=01;35:*.wmv=01;35:*.asf=01;35:*.rm=01;35:*.rmvb=01;35:*.flc=01;35:*.avi=01;35:*.fli=01;35:*.flv=01;35:*.gl=01;35:*.dl=01;35:*.xcf=01;35:*.xwd=01;35:*.yuv=01;35:*.cgm=01;35:*.emf=01;35:*.ogv=01;35:*.ogx=01;35:*.aac=00;36:*.au=00;36:*.flac=00;36:*.m4a=00;36:*.mid=00;36:*.midi=00;36:*.mka=00;36:*.mp3=00;36:*.mpc=00;36:*.ogg=00;36:*.ra=00;36:*.wav=00;36:*.oga=00;36:*.opus=00;36:*.spx=00;36:*.xspf=00;36:\n",
      "VIRTUAL_ENV=/home/dvelez/.cache/pypoetry/virtualenvs/attachment-jupyter-6-7-e5HZ-py3.8\n",
      "WAYLAND_DISPLAY=wayland-0\n",
      "PLAT=linux-x86_64\n",
      "NVM_DIR=/home/dvelez/.nvm\n",
      "LESSCLOSE=/usr/bin/lesspipe %s %s\n",
      "TERM=xterm-color\n",
      "_CE_CONDA=\n",
      "LESSOPEN=| /usr/bin/lesspipe %s\n",
      "USER=dvelez\n",
      "CONDA_SHLVL=0\n",
      "DISPLAY=:0\n",
      "SHLVL=2\n",
      "NVM_CD_FLAGS=\n",
      "CONDA_PYTHON_EXE=/home/dvelez/miniconda3/bin/python\n",
      "XDG_RUNTIME_DIR=/run/user/1000/\n",
      "PS1=(attachment-jupyter-py3.8) \\[\\e]0;\\u@\\h: \\w\\a\\]${debian_chroot:+($debian_chroot)}\\[\\033[01;32m\\]\\u@\\h\\[\\033[00m\\]:\\[\\033[01;34m\\]\\w\\[\\033[00m\\]\\$ \n",
      "WSLENV=\n",
      "XDG_DATA_DIRS=/usr/local/share:/usr/share:/var/lib/snapd/desktop\n",
      "PATH=/home/dvelez/.cache/pypoetry/virtualenvs/attachment-jupyter-6-7-e5HZ-py3.8/bin:/home/dvelez/.nvm/versions/node/v20.3.1/bin:/mnt/d/Stata/STATA/:/usr/local/sbin:/usr/local/bin:/usr/sbin:/usr/bin:/sbin:/bin:/usr/games:/usr/local/games:/usr/lib/wsl/lib:/mnt/c/Program Files/WindowsApps/CanonicalGroupLimited.Ubuntu20.04LTS_2004.5.11.0_x64__79rhkp1fndgsc:/mnt/c/Program Files/Python39/Scripts/:/mnt/c/Program Files/Python39/:/mnt/c/Python39/Scripts/:/mnt/c/Python39/:/mnt/c/Program Files (x86)/Microsoft SDKs/Azure/CLI2/wbin:/mnt/c/Windows/system32:/mnt/c/Windows:/mnt/c/Windows/System32/Wbem:/mnt/c/Windows/System32/WindowsPowerShell/v1.0/:/mnt/c/Windows/System32/OpenSSH/:/mnt/c/Program Files (x86)/NVIDIA Corporation/PhysX/Common:/mnt/c/Program Files/NVIDIA Corporation/NVIDIA NvDLISR:/mnt/c/Program Files/Git/cmd:/mnt/c/Program Files/dotnet/:/mnt/c/Program Files/wkhtmltopdf/bin:/mnt/c/flutter_src/flutter/bin:/mnt/c/WINDOWS/system32:/mnt/c/WINDOWS:/mnt/c/WINDOWS/System32/Wbem:/mnt/c/WINDOWS/System32/WindowsPowerShell/v1.0/:/mnt/c/WINDOWS/System32/OpenSSH/:/mnt/c/ProgramData/chocolatey/bin:/mnt/c/chromedriver.exe:/mnt/c/Program Files/Docker/Docker/resources/bin:/mnt/c/ProgramData/DockerDesktop/version-bin:/mnt/d/contentful-cli-win-1.9.20/:/mnt/d/Azure functions/:/mnt/c/Users/danil/AppData/Local/Programs/Python/Python311/Scripts/:/mnt/c/Users/danil/AppData/Local/Programs/Python/Python311/:/mnt/c/Users/danil/AppData/Local/Microsoft/WindowsApps:/mnt/c/Program Files/wkhtmltopdf:/mnt/c/Program Files/Docker Toolbox:/snap/bin\n",
      "DBUS_SESSION_BUS_ADDRESS=unix:path=/run/user/1000/bus\n",
      "NVM_BIN=/home/dvelez/.nvm/versions/node/v20.3.1/bin\n",
      "HOSTTYPE=x86_64\n",
      "PULSE_SERVER=unix:/mnt/wslg/PulseServer\n",
      "OLDPWD=/mnt/d/CYBER/Valencia/dev\n",
      "_=/home/dvelez/.cache/pypoetry/virtualenvs/attachment-jupyter-6-7-e5HZ-py3.8/bin/jupyter\n",
      "PYDEVD_USE_FRAME_EVAL=NO\n",
      "JPY_SESSION_NAME=/mnt/d/CYBER/Valencia/dev/attachment-jupyter/Attachment transcription service.ipynb\n",
      "JPY_PARENT_PID=5333\n",
      "CLICOLOR=1\n",
      "FORCE_COLOR=1\n",
      "CLICOLOR_FORCE=1\n",
      "PAGER=cat\n",
      "GIT_PAGER=cat\n",
      "MPLBACKEND=module://matplotlib_inline.backend_inline\n",
      "DB_USERNAME=CyberMaster\n",
      "DB_PASSWORD=77N4PEpI\n",
      "DB_NAME=CyberMaster\n",
      "DB_HOST=mysqldes.cx6wrq2p7puy.eu-west-3.rds.amazonaws.com\n",
      "DB_PORT=3306\n",
      "None\n"
     ]
    }
   ],
   "source": [
    "for name, value in os.environ.items():\n",
    "    print(f\"{name}={value}\")\n",
    "\n",
    "print(os.environ.get(\"DB_USER\"))"
   ]
  },
  {
   "cell_type": "code",
   "execution_count": 20,
   "id": "e3dbb8c9",
   "metadata": {},
   "outputs": [],
   "source": [
    "import mysql.connector\n",
    "\n",
    "connection = mysql.connector.connect(user=os.getenv(\"DB_USERNAME\"), password=os.getenv(\"DB_PASSWORD\"), host=os.getenv(\"DB_HOST\"), database=os.getenv(\"DB_NAME\"), port=os.getenv(\"DB_PORT\"))\n",
    "cursor = connection.cursor()\n",
    "\n",
    "# query the answers table\n",
    "query = f\"SELECT * FROM surveys_answer where surveys_answer.survey_id = {STUDY_SURVEY_ID}\"\n",
    "cursor.execute(query)\n",
    "answers = cursor.fetchall()"
   ]
  },
  {
   "cell_type": "code",
   "execution_count": 27,
   "id": "2941470e-b36c-4949-a870-3b8beeefc03e",
   "metadata": {},
   "outputs": [],
   "source": [
    "json_answers = []\n",
    "\n",
    "for answer in answers:\n",
    "    dict_answer = json.loads(json.loads(answer[1]))\n",
    "    if dict_answer not in json_answers:\n",
    "        json_answers.append(json.loads(json.loads(answer[1])))\n",
    "\n",
    "answers_length = len(json_answers)"
   ]
  },
  {
   "cell_type": "code",
   "execution_count": 33,
   "id": "3849a35b",
   "metadata": {},
   "outputs": [
    {
     "data": {
      "text/plain": [
       "8"
      ]
     },
     "execution_count": 33,
     "metadata": {},
     "output_type": "execute_result"
    }
   ],
   "source": [
    "full_answers = [answer for answer in json_answers if len(answer.keys()) == 61]\n",
    "len(full_answers)"
   ]
  },
  {
   "cell_type": "code",
   "execution_count": 35,
   "id": "4be27de8",
   "metadata": {},
   "outputs": [
    {
     "name": "stdout",
     "output_type": "stream",
     "text": [
      "{'es'}\n"
     ]
    }
   ],
   "source": [
    "language_set = set([answer[\"language\"] for answer in full_answers])\n",
    "print(language_set)"
   ]
  },
  {
   "cell_type": "code",
   "execution_count": null,
   "id": "32405ec3",
   "metadata": {},
   "outputs": [],
   "source": []
  }
 ],
 "metadata": {
  "kernelspec": {
   "display_name": "Python 3 (ipykernel)",
   "language": "python",
   "name": "python3"
  },
  "language_info": {
   "codemirror_mode": {
    "name": "ipython",
    "version": 3
   },
   "file_extension": ".py",
   "mimetype": "text/x-python",
   "name": "python",
   "nbconvert_exporter": "python",
   "pygments_lexer": "ipython3",
   "version": "3.8.10"
  }
 },
 "nbformat": 4,
 "nbformat_minor": 5
}
